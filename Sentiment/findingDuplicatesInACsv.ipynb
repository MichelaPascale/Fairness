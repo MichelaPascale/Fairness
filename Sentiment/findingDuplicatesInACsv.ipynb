{
  "nbformat": 4,
  "nbformat_minor": 0,
  "metadata": {
    "colab": {
      "name": "Untitled3.ipynb",
      "provenance": [],
      "collapsed_sections": [],
      "authorship_tag": "ABX9TyPE5DRyeexTS8EQQQxYg+S7",
      "include_colab_link": true
    },
    "kernelspec": {
      "name": "python3",
      "display_name": "Python 3"
    }
  },
  "cells": [
    {
      "cell_type": "markdown",
      "metadata": {
        "id": "view-in-github",
        "colab_type": "text"
      },
      "source": [
        "<a href=\"https://colab.research.google.com/github/MichelaPascale/Fairness/blob/master/Sentiment/findingDuplicatesInACsv.ipynb\" target=\"_parent\"><img src=\"https://colab.research.google.com/assets/colab-badge.svg\" alt=\"Open In Colab\"/></a>"
      ]
    },
    {
      "cell_type": "code",
      "metadata": {
        "id": "EqBUUswyzxvg",
        "colab_type": "code",
        "outputId": "56f00215-7ae2-4657-f35e-1f24e294d277",
        "colab": {
          "base_uri": "https://localhost:8080/",
          "height": 595
        }
      },
      "source": [
        "from pydrive.auth import GoogleAuth\n",
        "from pydrive.drive import GoogleDrive\n",
        "from oauth2client.client import GoogleCredentials\n",
        "from google.colab import auth\n",
        "import pandas as pd\n",
        "import csv\n",
        "\n",
        "auth.authenticate_user()\n",
        "gauth = GoogleAuth()\n",
        "gauth.credentials = GoogleCredentials.get_application_default()\n",
        "drive = GoogleDrive(gauth)\n",
        "\n",
        "id_csv = '1psj_l0RXExzkfjGj-9TGEd-G_EMHTMGE'  # FILE ID, got on google drive with condivision link\n",
        "download = drive.CreateFile({'id': id_csv})\n",
        "download.GetContentFile('CravingsBuffet_ultimiUtenti.csv')\n",
        "\n",
        "df = pd.read_csv('CravingsBuffet_ultimiUtenti.csv')\n",
        "print(df)\n",
        "\n",
        "#Stampa duplicati\n",
        "print(df[df.duplicated(keep=False)])\n",
        "\n",
        "# Notes:\n",
        "# - the `subset=None` means that every column is used \n",
        "#    to determine if two rows are different; to change that specify\n",
        "#    the columns as an array\n",
        "# - the `inplace=True` means that the data structure is changed and\n",
        "#   the duplicate rows are gone  \n",
        "df.drop_duplicates(subset=None, inplace=True)\n",
        "\n",
        "# Write the results to a different file\n",
        "df1 = df.to_csv('output_without_duplicates.csv')\n",
        "\n",
        "#Se questo print è None allora vuol dire che non c'erano duplicati\n",
        "print(df1)"
      ],
      "execution_count": 17,
      "outputs": [
        {
          "output_type": "stream",
          "text": [
            "                     user_id                                        text_review\n",
            "0     xZDovqMdVGNOmjKK83VbUw  having lived in vegas for 20+ yrs, we have had...\n",
            "1     4Xkk4WJhTGUEjCrMcQzJCg  This place is my favorite buffet. The ambiance...\n",
            "2     WtXa80CoDZFpOwL54T--bw  Visited 4/15/2018 - first time and won&#39;t b...\n",
            "3     AGpnVxWBOSsLw4VuC81q7A  So we were hungry and we were looking for a le...\n",
            "4     lurEQkg-9bQ1pb793KWV5w  The only reason we chose to eat here was becau...\n",
            "...                      ...                                                ...\n",
            "1520  WBHEgf3o62W2iKuuulqAuQ  I don&#39;t understand the bad reviews for thi...\n",
            "1521  jUkfklC7mMEPBVLSOBeXNA  One of my favorite buffets! If you like seafoo...\n",
            "1522  QM9bRogGOTK8mo45bQ6dtQ  My wife and I went to Cravings while in town f...\n",
            "1523  QC13EpfxNDqTGkdgt05uJw  The first thing that struck me about this buff...\n",
            "1524  SBYq1zEWQsqEc8jjy329vg  I&#39;ve been a tourist that has been to this ...\n",
            "\n",
            "[1525 rows x 2 columns]\n",
            "                    user_id                                        text_review\n",
            "266  0XKbQ0ecQ2D3Dm8ZBVjVGw  Color me unimpressed.<br>I found much of the f...\n",
            "286  0XKbQ0ecQ2D3Dm8ZBVjVGw  Color me unimpressed.<br>I found much of the f...\n",
            "290  jcShB-2x8gHe6mREmbzqfw  This was the worst dining experience we had du...\n",
            "347  NRE3T9Floim2P6q0ymfUWw  We were staying at the Mirage and since we wer...\n",
            "349  I1tTdj4RV7K0b4Or5xGyaw  I&#39;m a buffet nut and have been to enough b...\n",
            "357  I1dKh4olStlU7i-hEi4_TQ  Pretty impressive buffet. I&#39;m sure it&#39;...\n",
            "358  uIaM3Upp9WFOCqHBmBEjXg  It was better than the buffett at Caesars. You...\n",
            "405  NRE3T9Floim2P6q0ymfUWw  We were staying at the Mirage and since we wer...\n",
            "412  I1dKh4olStlU7i-hEi4_TQ  Pretty impressive buffet. I&#39;m sure it&#39;...\n",
            "430  jcShB-2x8gHe6mREmbzqfw  This was the worst dining experience we had du...\n",
            "431  I1tTdj4RV7K0b4Or5xGyaw  I&#39;m a buffet nut and have been to enough b...\n",
            "432  uIaM3Upp9WFOCqHBmBEjXg  It was better than the buffett at Caesars. You...\n",
            "449  7rcrcTV47ibFscS2f-KjYA  I&#39;m kinda disappointed with the quality of...\n",
            "467  7rcrcTV47ibFscS2f-KjYA  I&#39;m kinda disappointed with the quality of...\n",
            "601  jURsdln9hCEauhMnWPoOBA  What happened to the Mirage Buffet that I reme...\n",
            "653  BQFRRP3Du-ZWgn9hZgiJhA  One of the best under-$20-buffet in Las Vegas....\n",
            "705  jURsdln9hCEauhMnWPoOBA  What happened to the Mirage Buffet that I reme...\n",
            "716  BQFRRP3Du-ZWgn9hZgiJhA  One of the best under-$20-buffet in Las Vegas....\n",
            "None\n"
          ],
          "name": "stdout"
        }
      ]
    }
  ]
}